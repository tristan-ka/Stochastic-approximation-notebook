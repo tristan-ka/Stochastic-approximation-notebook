{
 "cells": [
  {
   "cell_type": "markdown",
   "metadata": {},
   "source": [
    "# Comparison between w2v and ELMo on a sentiment task"
   ]
  },
  {
   "cell_type": "markdown",
   "metadata": {},
   "source": [
    "------------------\n",
    "We try to reproduce the results obtained in the paper [Evaluation of sentence embeddings in downstream\n",
    "and linguistic probing tasks](https://arxiv.org/pdf/1806.06259.pdf). The goal is to compare the performances of different sentence embeddings.\n",
    "\n",
    "More specifically we will compare:\n",
    "* Average of word2vec vectors\n",
    "* SIF (Smoothing inverse frequency) with w2v vectors\n",
    "* ELMo\n",
    "\n",
    "The classification is done thanks to a one hidden layer perceptron with 50 neurons (as in the article). If enough time perform the classification also with a logistic regression\n",
    "\n",
    "--------------------"
   ]
  },
  {
   "cell_type": "code",
   "execution_count": 1,
   "metadata": {},
   "outputs": [
    {
     "name": "stdout",
     "output_type": "stream",
     "text": [
      "tensorflow                1.8.0                         0  \n",
      "tensorflow-base           1.8.0            py36h1a1b453_0  \n",
      "tensorflow-hub            0.1.1                     <pip>\n"
     ]
    }
   ],
   "source": [
    "! conda list | grep tensorflow"
   ]
  },
  {
   "cell_type": "code",
   "execution_count": 4,
   "metadata": {},
   "outputs": [
    {
     "name": "stderr",
     "output_type": "stream",
     "text": [
      "C:\\Users\\ac40448\\AppData\\Local\\Continuum\\anaconda3\\lib\\site-packages\\h5py\\__init__.py:36: FutureWarning: Conversion of the second argument of issubdtype from `float` to `np.floating` is deprecated. In future, it will be treated as `np.float64 == np.dtype(float).type`.\n",
      "  from ._conv import register_converters as _register_converters\n",
      "Using TensorFlow backend.\n"
     ]
    }
   ],
   "source": [
    "import pandas as pd\n",
    "import keras\n",
    "from keras.initializers import RandomNormal\n",
    "from keras.layers import Dense\n",
    "from keras.models import Sequential\n",
    "from keras.optimizers import adam\n",
    "\n",
    "from keras import backend as K\n",
    "import keras.layers as layers\n",
    "from keras.models import Model, load_model\n",
    "from keras.engine import Layer\n",
    "\n",
    "import tensorflow as tf\n",
    "import tensorflow_hub as hub\n",
    "\n",
    "import numpy as np\n"
   ]
  },
  {
   "cell_type": "markdown",
   "metadata": {},
   "source": [
    "## Reading data\n",
    "-------------------------"
   ]
  },
  {
   "cell_type": "code",
   "execution_count": 5,
   "metadata": {},
   "outputs": [],
   "source": [
    "def read_file(data_file):\n",
    "    df_out = pd.DataFrame()\n",
    "    df = pd.read_table('data/stsa.binary.train', header=None)\n",
    "    labels = []\n",
    "    sentences = []\n",
    "    for i in range(len(df[0])):\n",
    "        labels.append(int(df[0][i][:1]))\n",
    "        sentences.append(df[0][i][1:])\n",
    "    df_out['X'] = sentences\n",
    "    df_out['Y'] = labels\n",
    "    return df_out"
   ]
  },
  {
   "cell_type": "code",
   "execution_count": 6,
   "metadata": {},
   "outputs": [],
   "source": [
    "df = read_file('data/stsa.binary.train')"
   ]
  },
  {
   "cell_type": "markdown",
   "metadata": {},
   "source": [
    "Splitting data between training and testing set"
   ]
  },
  {
   "cell_type": "code",
   "execution_count": 7,
   "metadata": {},
   "outputs": [],
   "source": [
    "split = 0.7\n",
    "train_set = ['train' for _ in range(int(split*len(df)))]\n",
    "test_set = ['test' for _ in range(int((1-split)*len(df)))]\n",
    "data_set = [train_set, test_set]\n",
    "flat_data_set = [item for sublist in data_set for item in sublist]\n",
    "df['data_set'] = flat_data_set \n",
    "\n",
    "df_train = df[df['data_set']=='train']\n",
    "df_test = df[df['data_set']=='test']"
   ]
  },
  {
   "cell_type": "markdown",
   "metadata": {},
   "source": [
    "## w2v + MCP\n",
    "\n",
    "---------------------\n"
   ]
  },
  {
   "cell_type": "markdown",
   "metadata": {},
   "source": [
    "Things to investigate :\n",
    "    \n",
    "    0 word2vec against Glove\n",
    "   \n",
    "    1 Using pre-trained word2vec\n",
    "    2 Using trained word2vec\n",
    "    3 SIF with pre-trained word2vec\n",
    "    4 SIF with trained word2vec\n",
    "    "
   ]
  },
  {
   "cell_type": "code",
   "execution_count": 8,
   "metadata": {},
   "outputs": [],
   "source": [
    "def split_sent(sent):\n",
    "    tokens = sent.split(' ')\n",
    "    if '' in tokens:\n",
    "        i = tokens.index('')\n",
    "        del tokens[i]\n",
    "    return tokens\n",
    "\n",
    "def compute_sent_embedding(sent, model, emb_size):\n",
    "    tokens = split_sent(sent)\n",
    "    embs = np.zeros((emb_size, len(tokens)))\n",
    "\n",
    "    columns_to_remove = []\n",
    "    for i, token in enumerate(tokens):\n",
    "        if token in model:\n",
    "            embs[:,i]=model[token]\n",
    "        else:\n",
    "            columns_to_remove.append(i)\n",
    "            \n",
    "    embs = np.delete(embs, columns_to_remove ,axis=1)\n",
    "\n",
    "    return np.mean(embs, axis =1)\n",
    "            "
   ]
  },
  {
   "cell_type": "markdown",
   "metadata": {},
   "source": [
    "### Pre-trained word2vec\n",
    "\n",
    "------------------------------------"
   ]
  },
  {
   "cell_type": "code",
   "execution_count": 9,
   "metadata": {},
   "outputs": [],
   "source": [
    "#Load Glove \n",
    "def load_glove_model(glove_file):\n",
    "    print(\"Loading Glove Model\")\n",
    "    f = open(glove_file,'r',encoding='utf8')\n",
    "    model = {}\n",
    "    for line in f:\n",
    "        split_line = line.split()\n",
    "        word = split_line[0]\n",
    "        embedding = np.array([float(val) for val in split_line[1:]])\n",
    "        model[word] = embedding\n",
    "    print(\"Done.\",len(model),\" words loaded!\")\n",
    "    return model"
   ]
  },
  {
   "cell_type": "code",
   "execution_count": 10,
   "metadata": {},
   "outputs": [
    {
     "name": "stdout",
     "output_type": "stream",
     "text": [
      "Loading Glove Model\n",
      "Done. 400000  words loaded!\n"
     ]
    }
   ],
   "source": [
    "glove = load_glove_model('model/glove.6B.300d.txt')"
   ]
  },
  {
   "cell_type": "code",
   "execution_count": 11,
   "metadata": {},
   "outputs": [],
   "source": [
    "embedding_size = len(glove['the'])\n",
    "\n",
    "\n",
    "sentences_train = df_train.X.values\n",
    "X_train = np.array([compute_sent_embedding(sent, glove, embedding_size) for sent in sentences_train])\n",
    "Y_train = np.array(df_train.Y.values)\n",
    "\n",
    "sentences_test = df_test.X.values\n",
    "X_test = np.array([compute_sent_embedding(sent, glove, embedding_size) for sent in sentences_test])\n",
    "Y_test = np.array(df_test.Y.values)"
   ]
  },
  {
   "cell_type": "code",
   "execution_count": 12,
   "metadata": {},
   "outputs": [],
   "source": [
    "class MCP:\n",
    "    \n",
    "    def __init__(self, input_size, output_size):\n",
    "        self.input_size = input_size\n",
    "        self.output_size = output_size\n",
    "        self.learning_rate = 0.01\n",
    "        self.batch_size = 32\n",
    "        self.model = self._build_model()\n",
    "    \n",
    "    def _build_model(self):\n",
    "        init = RandomNormal(mean=0.0, stddev=0.01, seed=None)\n",
    "        print(self.input_size)\n",
    "        model = Sequential()\n",
    "        model.add(Dense(units=50, input_shape=(300,), activation='relu', kernel_initializer=init))\n",
    "        model.add(Dense(units=self.output_size, activation='sigmoid', kernel_initializer=init))\n",
    "        \n",
    "        model.compile(loss='binary_crossentropy', optimizer=adam(lr=self.learning_rate), metrics=['accuracy'])\n",
    "        return model\n",
    "        \n",
    "    def train(self, X, Y, n_epochs, bool_validate = False, X_test=None, Y_test=None):\n",
    "        if bool_validate == False:\n",
    "            scores = self.model.fit(X,Y, epochs=n_epochs, verbose=1, batch_size=self.batch_size)\n",
    "        else:\n",
    "            scores = self.model.fit(X,Y, validation_data = (X_test, Y_test), epochs=n_epochs, verbose=1, batch_size=self.batch_size)\n",
    "        return scores"
   ]
  },
  {
   "cell_type": "code",
   "execution_count": 13,
   "metadata": {},
   "outputs": [
    {
     "name": "stdout",
     "output_type": "stream",
     "text": [
      "300\n",
      "_________________________________________________________________\n",
      "Layer (type)                 Output Shape              Param #   \n",
      "=================================================================\n",
      "dense_1 (Dense)              (None, 50)                15050     \n",
      "_________________________________________________________________\n",
      "dense_2 (Dense)              (None, 1)                 51        \n",
      "=================================================================\n",
      "Total params: 15,101\n",
      "Trainable params: 15,101\n",
      "Non-trainable params: 0\n",
      "_________________________________________________________________\n"
     ]
    }
   ],
   "source": [
    "mcp = MCP(embedding_size, 1)\n",
    "mcp.model.summary()"
   ]
  },
  {
   "cell_type": "code",
   "execution_count": 14,
   "metadata": {},
   "outputs": [
    {
     "name": "stdout",
     "output_type": "stream",
     "text": [
      "Train on 4844 samples, validate on 2076 samples\n",
      "Epoch 1/100\n",
      "4844/4844 [==============================] - 1s 105us/step - loss: 0.5241 - acc: 0.7225 - val_loss: 0.5053 - val_acc: 0.7476\n",
      "Epoch 2/100\n",
      "4844/4844 [==============================] - 0s 51us/step - loss: 0.4427 - acc: 0.7907 - val_loss: 0.4649 - val_acc: 0.7770\n",
      "Epoch 3/100\n",
      "4844/4844 [==============================] - 0s 51us/step - loss: 0.4460 - acc: 0.7878 - val_loss: 0.4479 - val_acc: 0.7962\n",
      "Epoch 4/100\n",
      "4844/4844 [==============================] - 0s 53us/step - loss: 0.4275 - acc: 0.7981 - val_loss: 0.4388 - val_acc: 0.7967\n",
      "Epoch 5/100\n",
      "4844/4844 [==============================] - 0s 52us/step - loss: 0.4171 - acc: 0.8049 - val_loss: 0.4726 - val_acc: 0.7731\n",
      "Epoch 6/100\n",
      "4844/4844 [==============================] - 0s 49us/step - loss: 0.4109 - acc: 0.8062 - val_loss: 0.4489 - val_acc: 0.7924\n",
      "Epoch 7/100\n",
      "4844/4844 [==============================] - 0s 54us/step - loss: 0.4022 - acc: 0.8144 - val_loss: 0.4736 - val_acc: 0.7803\n",
      "Epoch 8/100\n",
      "4844/4844 [==============================] - 0s 48us/step - loss: 0.3938 - acc: 0.8132 - val_loss: 0.4421 - val_acc: 0.7914\n",
      "Epoch 9/100\n",
      "4844/4844 [==============================] - 0s 54us/step - loss: 0.3932 - acc: 0.8142 - val_loss: 0.4474 - val_acc: 0.7885\n",
      "Epoch 10/100\n",
      "4844/4844 [==============================] - 0s 47us/step - loss: 0.3801 - acc: 0.8247 - val_loss: 0.4628 - val_acc: 0.7842\n",
      "Epoch 11/100\n",
      "4844/4844 [==============================] - 0s 49us/step - loss: 0.3808 - acc: 0.8183 - val_loss: 0.4577 - val_acc: 0.7924\n",
      "Epoch 12/100\n",
      "4844/4844 [==============================] - 0s 55us/step - loss: 0.3687 - acc: 0.8231 - val_loss: 0.4625 - val_acc: 0.7799\n",
      "Epoch 13/100\n",
      "4844/4844 [==============================] - 0s 48us/step - loss: 0.3595 - acc: 0.8313 - val_loss: 0.4823 - val_acc: 0.7885\n",
      "Epoch 14/100\n",
      "4844/4844 [==============================] - 0s 51us/step - loss: 0.3593 - acc: 0.8324 - val_loss: 0.4637 - val_acc: 0.7924\n",
      "Epoch 15/100\n",
      "4844/4844 [==============================] - 0s 49us/step - loss: 0.3415 - acc: 0.8417 - val_loss: 0.4949 - val_acc: 0.7717\n",
      "Epoch 16/100\n",
      "4844/4844 [==============================] - 0s 56us/step - loss: 0.3356 - acc: 0.8479 - val_loss: 0.4857 - val_acc: 0.7707\n",
      "Epoch 17/100\n",
      "4844/4844 [==============================] - 0s 53us/step - loss: 0.3332 - acc: 0.8441 - val_loss: 0.4741 - val_acc: 0.7847\n",
      "Epoch 18/100\n",
      "4844/4844 [==============================] - 0s 54us/step - loss: 0.3276 - acc: 0.8509 - val_loss: 0.4954 - val_acc: 0.7808\n",
      "Epoch 19/100\n",
      "4844/4844 [==============================] - 0s 55us/step - loss: 0.3172 - acc: 0.8576 - val_loss: 0.4971 - val_acc: 0.7876\n",
      "Epoch 20/100\n",
      "4844/4844 [==============================] - 0s 75us/step - loss: 0.3074 - acc: 0.8609 - val_loss: 0.5140 - val_acc: 0.7799\n",
      "Epoch 21/100\n",
      "4844/4844 [==============================] - 1s 118us/step - loss: 0.2937 - acc: 0.8635 - val_loss: 0.5563 - val_acc: 0.7770\n",
      "Epoch 22/100\n",
      "4844/4844 [==============================] - 0s 103us/step - loss: 0.2917 - acc: 0.8710 - val_loss: 0.5466 - val_acc: 0.7871\n",
      "Epoch 23/100\n",
      "4844/4844 [==============================] - 0s 69us/step - loss: 0.2746 - acc: 0.8788 - val_loss: 0.5456 - val_acc: 0.7722\n",
      "Epoch 24/100\n",
      "4844/4844 [==============================] - 0s 69us/step - loss: 0.2676 - acc: 0.8840 - val_loss: 0.5689 - val_acc: 0.7828\n",
      "Epoch 25/100\n",
      "4844/4844 [==============================] - 0s 66us/step - loss: 0.2627 - acc: 0.8827 - val_loss: 0.5844 - val_acc: 0.7755\n",
      "Epoch 26/100\n",
      "4844/4844 [==============================] - 0s 65us/step - loss: 0.2562 - acc: 0.8881 - val_loss: 0.6049 - val_acc: 0.7673\n",
      "Epoch 27/100\n",
      "4844/4844 [==============================] - 0s 63us/step - loss: 0.2554 - acc: 0.8887 - val_loss: 0.6414 - val_acc: 0.7726\n",
      "Epoch 28/100\n",
      "4844/4844 [==============================] - 0s 64us/step - loss: 0.2421 - acc: 0.8924 - val_loss: 0.6304 - val_acc: 0.7693\n",
      "Epoch 29/100\n",
      "4844/4844 [==============================] - 0s 63us/step - loss: 0.2401 - acc: 0.8986 - val_loss: 0.6928 - val_acc: 0.7678\n",
      "Epoch 30/100\n",
      "4844/4844 [==============================] - 0s 65us/step - loss: 0.2389 - acc: 0.8986 - val_loss: 0.6742 - val_acc: 0.7635\n",
      "Epoch 31/100\n",
      "4844/4844 [==============================] - 0s 88us/step - loss: 0.2142 - acc: 0.9094 - val_loss: 0.6889 - val_acc: 0.7649\n",
      "Epoch 32/100\n",
      "4844/4844 [==============================] - 0s 83us/step - loss: 0.2179 - acc: 0.9075 - val_loss: 0.7378 - val_acc: 0.7688\n",
      "Epoch 33/100\n",
      "4844/4844 [==============================] - 0s 55us/step - loss: 0.2125 - acc: 0.9112 - val_loss: 0.7194 - val_acc: 0.7616\n",
      "Epoch 34/100\n",
      "4844/4844 [==============================] - 0s 53us/step - loss: 0.2081 - acc: 0.9166 - val_loss: 0.7411 - val_acc: 0.7654\n",
      "Epoch 35/100\n",
      "4844/4844 [==============================] - 0s 54us/step - loss: 0.1997 - acc: 0.9178 - val_loss: 0.7749 - val_acc: 0.7630\n",
      "Epoch 36/100\n",
      "4844/4844 [==============================] - 0s 54us/step - loss: 0.2028 - acc: 0.9141 - val_loss: 0.8105 - val_acc: 0.7635\n",
      "Epoch 37/100\n",
      "4844/4844 [==============================] - 0s 59us/step - loss: 0.1818 - acc: 0.9228 - val_loss: 0.8195 - val_acc: 0.7659\n",
      "Epoch 38/100\n",
      "4844/4844 [==============================] - 0s 51us/step - loss: 0.1815 - acc: 0.9255 - val_loss: 0.7946 - val_acc: 0.7659\n",
      "Epoch 39/100\n",
      "4844/4844 [==============================] - 0s 53us/step - loss: 0.1847 - acc: 0.9251 - val_loss: 0.8174 - val_acc: 0.7673\n",
      "Epoch 40/100\n",
      "4844/4844 [==============================] - 0s 79us/step - loss: 0.1740 - acc: 0.9317 - val_loss: 0.8741 - val_acc: 0.7611\n",
      "Epoch 41/100\n",
      "4844/4844 [==============================] - 0s 56us/step - loss: 0.1693 - acc: 0.9310 - val_loss: 0.9625 - val_acc: 0.7577\n",
      "Epoch 42/100\n",
      "4844/4844 [==============================] - 0s 57us/step - loss: 0.1684 - acc: 0.9313 - val_loss: 0.8797 - val_acc: 0.7688\n",
      "Epoch 43/100\n",
      "4844/4844 [==============================] - 0s 51us/step - loss: 0.1573 - acc: 0.9395 - val_loss: 0.8680 - val_acc: 0.7712\n",
      "Epoch 44/100\n",
      "4844/4844 [==============================] - 0s 56us/step - loss: 0.1561 - acc: 0.9374 - val_loss: 0.9626 - val_acc: 0.7563\n",
      "Epoch 45/100\n",
      "4844/4844 [==============================] - 0s 52us/step - loss: 0.1542 - acc: 0.9370 - val_loss: 0.9687 - val_acc: 0.7592\n",
      "Epoch 46/100\n",
      "4844/4844 [==============================] - 0s 54us/step - loss: 0.1517 - acc: 0.9391 - val_loss: 0.8927 - val_acc: 0.7587\n",
      "Epoch 47/100\n",
      "4844/4844 [==============================] - 0s 58us/step - loss: 0.1340 - acc: 0.9494 - val_loss: 0.9575 - val_acc: 0.7625\n",
      "Epoch 48/100\n",
      "4844/4844 [==============================] - 0s 86us/step - loss: 0.1331 - acc: 0.9492 - val_loss: 1.0569 - val_acc: 0.7524\n",
      "Epoch 49/100\n",
      "4844/4844 [==============================] - 0s 55us/step - loss: 0.1543 - acc: 0.9362 - val_loss: 1.0496 - val_acc: 0.7635\n",
      "Epoch 50/100\n",
      "4844/4844 [==============================] - 0s 58us/step - loss: 0.1376 - acc: 0.9453 - val_loss: 1.0160 - val_acc: 0.7500\n",
      "Epoch 51/100\n",
      "4844/4844 [==============================] - 0s 55us/step - loss: 0.1309 - acc: 0.9486 - val_loss: 1.0099 - val_acc: 0.7620\n",
      "Epoch 52/100\n",
      "4844/4844 [==============================] - 0s 53us/step - loss: 0.1182 - acc: 0.9569 - val_loss: 1.0578 - val_acc: 0.7567\n",
      "Epoch 53/100\n",
      "4844/4844 [==============================] - 0s 52us/step - loss: 0.1198 - acc: 0.9536 - val_loss: 1.1672 - val_acc: 0.7408\n",
      "Epoch 54/100\n",
      "4844/4844 [==============================] - 0s 60us/step - loss: 0.1247 - acc: 0.9492 - val_loss: 1.0787 - val_acc: 0.7606\n",
      "Epoch 55/100\n",
      "4844/4844 [==============================] - 0s 58us/step - loss: 0.1309 - acc: 0.9461 - val_loss: 1.1082 - val_acc: 0.7461\n",
      "Epoch 56/100\n",
      "4844/4844 [==============================] - 0s 53us/step - loss: 0.1105 - acc: 0.9562 - val_loss: 1.1442 - val_acc: 0.7558\n",
      "Epoch 57/100\n",
      "4844/4844 [==============================] - 0s 59us/step - loss: 0.1028 - acc: 0.9610 - val_loss: 1.2444 - val_acc: 0.7476\n",
      "Epoch 58/100\n",
      "4844/4844 [==============================] - 0s 53us/step - loss: 0.1060 - acc: 0.9597 - val_loss: 1.1859 - val_acc: 0.7601\n",
      "Epoch 59/100\n",
      "4844/4844 [==============================] - 0s 58us/step - loss: 0.0982 - acc: 0.9618 - val_loss: 1.2369 - val_acc: 0.7635\n",
      "Epoch 60/100\n",
      "4844/4844 [==============================] - 0s 60us/step - loss: 0.0986 - acc: 0.9635 - val_loss: 1.2176 - val_acc: 0.7611\n",
      "Epoch 61/100\n",
      "4844/4844 [==============================] - 0s 53us/step - loss: 0.1052 - acc: 0.9585 - val_loss: 1.2926 - val_acc: 0.7558\n",
      "Epoch 62/100\n",
      "4844/4844 [==============================] - 0s 56us/step - loss: 0.0930 - acc: 0.9637 - val_loss: 1.3320 - val_acc: 0.7582\n",
      "Epoch 63/100\n",
      "4844/4844 [==============================] - 0s 52us/step - loss: 0.1011 - acc: 0.9600 - val_loss: 1.2892 - val_acc: 0.7529\n",
      "Epoch 64/100\n",
      "4844/4844 [==============================] - 0s 53us/step - loss: 0.0872 - acc: 0.9682 - val_loss: 1.2928 - val_acc: 0.7543\n",
      "Epoch 65/100\n",
      "4844/4844 [==============================] - 0s 53us/step - loss: 0.0894 - acc: 0.9664 - val_loss: 1.2726 - val_acc: 0.7466\n",
      "Epoch 66/100\n",
      "4844/4844 [==============================] - 0s 53us/step - loss: 0.0817 - acc: 0.9715 - val_loss: 1.3506 - val_acc: 0.7404\n",
      "Epoch 67/100\n",
      "4844/4844 [==============================] - 0s 75us/step - loss: 0.0824 - acc: 0.9686 - val_loss: 1.3146 - val_acc: 0.7563\n",
      "Epoch 68/100\n",
      "4844/4844 [==============================] - 0s 64us/step - loss: 0.0737 - acc: 0.9719 - val_loss: 1.3278 - val_acc: 0.7524\n",
      "Epoch 69/100\n",
      "4844/4844 [==============================] - 0s 56us/step - loss: 0.0869 - acc: 0.9668 - val_loss: 1.3196 - val_acc: 0.7543\n",
      "Epoch 70/100\n",
      "4844/4844 [==============================] - 0s 54us/step - loss: 0.0704 - acc: 0.9769 - val_loss: 1.3909 - val_acc: 0.7486\n",
      "Epoch 71/100\n",
      "4844/4844 [==============================] - 0s 54us/step - loss: 0.0636 - acc: 0.9775 - val_loss: 1.3997 - val_acc: 0.7495\n",
      "Epoch 72/100\n",
      "4844/4844 [==============================] - 0s 52us/step - loss: 0.0877 - acc: 0.9682 - val_loss: 1.3947 - val_acc: 0.7567\n",
      "Epoch 73/100\n",
      "4844/4844 [==============================] - 0s 57us/step - loss: 0.0860 - acc: 0.9672 - val_loss: 1.4612 - val_acc: 0.7553\n",
      "Epoch 74/100\n",
      "4844/4844 [==============================] - 0s 51us/step - loss: 0.0932 - acc: 0.9643 - val_loss: 1.4976 - val_acc: 0.7437\n",
      "Epoch 75/100\n",
      "4844/4844 [==============================] - 0s 56us/step - loss: 0.1116 - acc: 0.9558 - val_loss: 1.4167 - val_acc: 0.7505\n",
      "Epoch 76/100\n",
      "4844/4844 [==============================] - 0s 58us/step - loss: 0.0619 - acc: 0.9796 - val_loss: 1.5070 - val_acc: 0.7461\n",
      "Epoch 77/100\n",
      "4844/4844 [==============================] - 0s 57us/step - loss: 0.0512 - acc: 0.9841 - val_loss: 1.5019 - val_acc: 0.7611\n",
      "Epoch 78/100\n",
      "4844/4844 [==============================] - 0s 53us/step - loss: 0.0689 - acc: 0.9756 - val_loss: 1.5181 - val_acc: 0.7481\n",
      "Epoch 79/100\n",
      "4844/4844 [==============================] - 0s 80us/step - loss: 0.0500 - acc: 0.9853 - val_loss: 1.5094 - val_acc: 0.7471\n",
      "Epoch 80/100\n",
      "4844/4844 [==============================] - 0s 63us/step - loss: 0.0443 - acc: 0.9853 - val_loss: 1.6172 - val_acc: 0.7486\n",
      "Epoch 81/100\n",
      "4844/4844 [==============================] - 0s 54us/step - loss: 0.0648 - acc: 0.9763 - val_loss: 1.5130 - val_acc: 0.7500\n",
      "Epoch 82/100\n",
      "4844/4844 [==============================] - 0s 52us/step - loss: 0.0960 - acc: 0.9608 - val_loss: 1.5491 - val_acc: 0.7476\n",
      "Epoch 83/100\n",
      "4844/4844 [==============================] - 0s 74us/step - loss: 0.0975 - acc: 0.9643 - val_loss: 1.5409 - val_acc: 0.7433\n",
      "Epoch 84/100\n",
      "4844/4844 [==============================] - 0s 79us/step - loss: 0.0899 - acc: 0.9655 - val_loss: 1.6089 - val_acc: 0.7322\n",
      "Epoch 85/100\n",
      "4844/4844 [==============================] - 0s 56us/step - loss: 0.0854 - acc: 0.9670 - val_loss: 1.5702 - val_acc: 0.7519\n",
      "Epoch 86/100\n",
      "4844/4844 [==============================] - 0s 54us/step - loss: 0.0453 - acc: 0.9837 - val_loss: 1.6112 - val_acc: 0.7563\n",
      "Epoch 87/100\n",
      "4844/4844 [==============================] - 0s 55us/step - loss: 0.0350 - acc: 0.9905 - val_loss: 1.6821 - val_acc: 0.7486\n",
      "Epoch 88/100\n",
      "4844/4844 [==============================] - 0s 54us/step - loss: 0.0394 - acc: 0.9880 - val_loss: 1.6646 - val_acc: 0.7553\n",
      "Epoch 89/100\n",
      "4844/4844 [==============================] - 0s 58us/step - loss: 0.0291 - acc: 0.9926 - val_loss: 1.6293 - val_acc: 0.7548\n",
      "Epoch 90/100\n",
      "4844/4844 [==============================] - 1s 109us/step - loss: 0.0298 - acc: 0.9915 - val_loss: 1.6541 - val_acc: 0.7495\n",
      "Epoch 91/100\n",
      "4844/4844 [==============================] - 0s 96us/step - loss: 0.0302 - acc: 0.9915 - val_loss: 1.7192 - val_acc: 0.7495\n",
      "Epoch 92/100\n",
      "4844/4844 [==============================] - 0s 66us/step - loss: 0.0808 - acc: 0.9746 - val_loss: 1.6352 - val_acc: 0.7481\n",
      "Epoch 93/100\n",
      "4844/4844 [==============================] - 0s 73us/step - loss: 0.1030 - acc: 0.9616 - val_loss: 1.6561 - val_acc: 0.7514\n",
      "Epoch 94/100\n",
      "4844/4844 [==============================] - 0s 64us/step - loss: 0.0686 - acc: 0.9742 - val_loss: 1.6631 - val_acc: 0.7514\n",
      "Epoch 95/100\n",
      "4844/4844 [==============================] - 0s 67us/step - loss: 0.0666 - acc: 0.9769 - val_loss: 1.7557 - val_acc: 0.7510\n",
      "Epoch 96/100\n",
      "4844/4844 [==============================] - 0s 72us/step - loss: 0.0339 - acc: 0.9889 - val_loss: 1.6609 - val_acc: 0.7524\n",
      "Epoch 97/100\n",
      "4844/4844 [==============================] - 0s 66us/step - loss: 0.0265 - acc: 0.9930 - val_loss: 1.7774 - val_acc: 0.7500\n",
      "Epoch 98/100\n",
      "4844/4844 [==============================] - 0s 64us/step - loss: 0.0271 - acc: 0.9944 - val_loss: 1.7264 - val_acc: 0.7577\n",
      "Epoch 99/100\n",
      "4844/4844 [==============================] - 0s 66us/step - loss: 0.0268 - acc: 0.9905 - val_loss: 1.7033 - val_acc: 0.7505\n",
      "Epoch 100/100\n",
      "4844/4844 [==============================] - 0s 64us/step - loss: 0.0258 - acc: 0.9934 - val_loss: 1.7739 - val_acc: 0.7548\n"
     ]
    },
    {
     "data": {
      "text/plain": [
       "<keras.callbacks.History at 0x29641518>"
      ]
     },
     "execution_count": 14,
     "metadata": {},
     "output_type": "execute_result"
    }
   ],
   "source": [
    "mcp.train(X_train, Y_train, 100, bool_validate=True, X_test=X_test, Y_test=Y_test)"
   ]
  },
  {
   "cell_type": "markdown",
   "metadata": {},
   "source": [
    "## Trainable elmo\n",
    "\n",
    "-----------------------------------"
   ]
  },
  {
   "cell_type": "markdown",
   "metadata": {},
   "source": [
    "### Simple test on elmo"
   ]
  },
  {
   "cell_type": "code",
   "execution_count": 15,
   "metadata": {},
   "outputs": [
    {
     "name": "stdout",
     "output_type": "stream",
     "text": [
      "INFO:tensorflow:Using C:\\Users\\ac40448\\AppData\\Local\\Temp\\tfhub_modules to cache modules.\n",
      "INFO:tensorflow:Saver not created because there are no variables in the graph to restore\n"
     ]
    }
   ],
   "source": [
    "elmo = hub.Module(\"https://tfhub.dev/google/elmo/2\", trainable=True)\n",
    "embeddings = elmo(\n",
    "[\"the cat is on the mat\", \"dogs are in the fog\", \"pascal jauffret is in the house tonight\"],\n",
    "signature=\"default\",\n",
    "as_dict=True)[\"elmo\"]\n",
    "\n",
    "with tf.Session() as sess:\n",
    "    init = tf.global_variables_initializer()\n",
    "    sess.run(init)\n",
    "    test=embeddings[0].eval()\n",
    "    "
   ]
  },
  {
   "cell_type": "markdown",
   "metadata": {},
   "source": [
    "### Trainable layer"
   ]
  },
  {
   "cell_type": "code",
   "execution_count": 16,
   "metadata": {},
   "outputs": [],
   "source": [
    "class ElmoEmbeddingLayer(Layer):\n",
    "    def __init__(self, **kwargs):\n",
    "        self.dimensions = 1024\n",
    "        self.trainable=True\n",
    "        super(ElmoEmbeddingLayer, self).__init__(**kwargs)\n",
    "\n",
    "    def build(self, input_shape):\n",
    "        self.elmo = hub.Module('https://tfhub.dev/google/elmo/2', trainable=self.trainable,\n",
    "                               name=\"{}_module\".format(self.name))\n",
    "\n",
    "        self.trainable_weights += K.tf.trainable_variables(scope=\"^{}_module/.*\".format(self.name))\n",
    "        super(ElmoEmbeddingLayer, self).build(input_shape)\n",
    "\n",
    "    def call(self, x, mask=None):\n",
    "        result = self.elmo(K.squeeze(K.cast(x, tf.string), axis=1),\n",
    "                      as_dict=True,\n",
    "                      signature='default',\n",
    "                      )['default']\n",
    "        return result\n",
    "\n",
    "    def compute_mask(self, inputs, mask=None):\n",
    "        return K.not_equal(inputs, '--PAD--')\n",
    "\n",
    "    def compute_output_shape(self, input_shape):\n",
    "        return (input_shape[0], self.dimensions)\n",
    "    \n",
    "class Elmo_MCP:\n",
    "    \n",
    "    def __init__(self, input_size, output_size):\n",
    "        self.input_size = input_size\n",
    "        self.output_size = output_size\n",
    "        self.learning_rate = 0.01\n",
    "        self.batch_size = 32\n",
    "        self.model = self._build_model()\n",
    "        \n",
    "    def _build_model(self): \n",
    "        input_text = layers.Input(shape=(1,), dtype=\"string\")\n",
    "        embedding = ElmoEmbeddingLayer()(input_text)\n",
    "        dense = layers.Dense(50, activation='relu')(embedding)\n",
    "        pred = layers.Dense(1, activation='sigmoid')(dense)\n",
    "\n",
    "        model = Model(inputs=[input_text], outputs=pred)\n",
    "\n",
    "        model.compile(loss='binary_crossentropy', optimizer='adam', metrics=['accuracy'])\n",
    "        model.summary()\n",
    "\n",
    "        return model\n",
    "    \n",
    "    def train(self, X, Y, n_epochs, bool_validate = False, X_test=None, Y_test=None):\n",
    "        if bool_validate == False:\n",
    "            scores = self.model.fit(X,Y, epochs=n_epochs, verbose=1, batch_size=self.batch_size)\n",
    "        else:\n",
    "            scores = self.model.fit(X,Y, validation_data = (X_test, Y_test), epochs=n_epochs, verbose=1, batch_size=self.batch_size)\n",
    "        return scores"
   ]
  },
  {
   "cell_type": "code",
   "execution_count": 17,
   "metadata": {},
   "outputs": [],
   "source": [
    "X_train = np.array(df_train.X.values)\n",
    "Y_train = np.array(df_train.Y.values)\n",
    "X_test = np.array(df_test.X.values)\n",
    "Y_test = np.array(df_test.Y.values)\n"
   ]
  },
  {
   "cell_type": "code",
   "execution_count": 19,
   "metadata": {},
   "outputs": [
    {
     "name": "stdout",
     "output_type": "stream",
     "text": [
      "INFO:tensorflow:Saver not created because there are no variables in the graph to restore\n",
      "_________________________________________________________________\n",
      "Layer (type)                 Output Shape              Param #   \n",
      "=================================================================\n",
      "input_1 (InputLayer)         (None, 1)                 0         \n",
      "_________________________________________________________________\n",
      "elmo_embedding_layer_1 (Elmo (None, 1024)              4         \n",
      "_________________________________________________________________\n",
      "dense_3 (Dense)              (None, 50)                51250     \n",
      "_________________________________________________________________\n",
      "dense_4 (Dense)              (None, 1)                 51        \n",
      "=================================================================\n",
      "Total params: 51,305\n",
      "Trainable params: 51,305\n",
      "Non-trainable params: 0\n",
      "_________________________________________________________________\n"
     ]
    }
   ],
   "source": [
    "elmo_mcp = Elmo_MCP(embedding_size, 1)"
   ]
  },
  {
   "cell_type": "code",
   "execution_count": 22,
   "metadata": {},
   "outputs": [
    {
     "name": "stdout",
     "output_type": "stream",
     "text": [
      "Train on 4844 samples, validate on 2076 samples\n",
      "Epoch 1/5\n",
      "4844/4844 [==============================] - 2026s 418ms/step - loss: 0.4578 - acc: 0.7777 - val_loss: 0.4145 - val_acc: 0.8064\n",
      "Epoch 2/5\n",
      "4844/4844 [==============================] - 2020s 417ms/step - loss: 0.3781 - acc: 0.8276 - val_loss: 0.3685 - val_acc: 0.8300\n",
      "Epoch 3/5\n",
      "4844/4844 [==============================] - 2081s 430ms/step - loss: 0.3509 - acc: 0.8454 - val_loss: 0.3611 - val_acc: 0.8439\n",
      "Epoch 4/5\n",
      "4844/4844 [==============================] - 2187s 452ms/step - loss: 0.3353 - acc: 0.8559 - val_loss: 0.3533 - val_acc: 0.8454\n",
      "Epoch 5/5\n",
      "4844/4844 [==============================] - 2086s 431ms/step - loss: 0.3160 - acc: 0.8691 - val_loss: 0.3567 - val_acc: 0.8391\n"
     ]
    },
    {
     "data": {
      "text/plain": [
       "<keras.callbacks.History at 0x561f4d30>"
      ]
     },
     "execution_count": 22,
     "metadata": {},
     "output_type": "execute_result"
    }
   ],
   "source": [
    "elmo_mcp.train(X_train, Y_train, 5, bool_validate=True, X_test=X_test, Y_test=Y_test)"
   ]
  },
  {
   "cell_type": "code",
   "execution_count": 23,
   "metadata": {},
   "outputs": [
    {
     "data": {
      "text/html": [
       "<div>\n",
       "<style scoped>\n",
       "    .dataframe tbody tr th:only-of-type {\n",
       "        vertical-align: middle;\n",
       "    }\n",
       "\n",
       "    .dataframe tbody tr th {\n",
       "        vertical-align: top;\n",
       "    }\n",
       "\n",
       "    .dataframe thead th {\n",
       "        text-align: right;\n",
       "    }\n",
       "</style>\n",
       "<table border=\"1\" class=\"dataframe\">\n",
       "  <thead>\n",
       "    <tr style=\"text-align: right;\">\n",
       "      <th></th>\n",
       "      <th>X</th>\n",
       "      <th>Y</th>\n",
       "      <th>data_set</th>\n",
       "    </tr>\n",
       "  </thead>\n",
       "  <tbody>\n",
       "    <tr>\n",
       "      <th>0</th>\n",
       "      <td>a stirring , funny and finally transporting r...</td>\n",
       "      <td>1</td>\n",
       "      <td>train</td>\n",
       "    </tr>\n",
       "    <tr>\n",
       "      <th>1</th>\n",
       "      <td>apparently reassembled from the cutting-room ...</td>\n",
       "      <td>0</td>\n",
       "      <td>train</td>\n",
       "    </tr>\n",
       "    <tr>\n",
       "      <th>2</th>\n",
       "      <td>they presume their audience wo n't sit still ...</td>\n",
       "      <td>0</td>\n",
       "      <td>train</td>\n",
       "    </tr>\n",
       "    <tr>\n",
       "      <th>3</th>\n",
       "      <td>this is a visually stunning rumination on lov...</td>\n",
       "      <td>1</td>\n",
       "      <td>train</td>\n",
       "    </tr>\n",
       "    <tr>\n",
       "      <th>4</th>\n",
       "      <td>jonathan parker 's bartleby should have been ...</td>\n",
       "      <td>1</td>\n",
       "      <td>train</td>\n",
       "    </tr>\n",
       "  </tbody>\n",
       "</table>\n",
       "</div>"
      ],
      "text/plain": [
       "                                                   X  Y data_set\n",
       "0   a stirring , funny and finally transporting r...  1    train\n",
       "1   apparently reassembled from the cutting-room ...  0    train\n",
       "2   they presume their audience wo n't sit still ...  0    train\n",
       "3   this is a visually stunning rumination on lov...  1    train\n",
       "4   jonathan parker 's bartleby should have been ...  1    train"
      ]
     },
     "execution_count": 23,
     "metadata": {},
     "output_type": "execute_result"
    }
   ],
   "source": [
    "df_train.head()"
   ]
  },
  {
   "cell_type": "code",
   "execution_count": 25,
   "metadata": {},
   "outputs": [
    {
     "data": {
      "text/html": [
       "<div>\n",
       "<style scoped>\n",
       "    .dataframe tbody tr th:only-of-type {\n",
       "        vertical-align: middle;\n",
       "    }\n",
       "\n",
       "    .dataframe tbody tr th {\n",
       "        vertical-align: top;\n",
       "    }\n",
       "\n",
       "    .dataframe thead th {\n",
       "        text-align: right;\n",
       "    }\n",
       "</style>\n",
       "<table border=\"1\" class=\"dataframe\">\n",
       "  <thead>\n",
       "    <tr style=\"text-align: right;\">\n",
       "      <th></th>\n",
       "      <th>X</th>\n",
       "      <th>Y</th>\n",
       "      <th>data_set</th>\n",
       "    </tr>\n",
       "  </thead>\n",
       "  <tbody>\n",
       "    <tr>\n",
       "      <th>4844</th>\n",
       "      <td>a ragbag of cliches .</td>\n",
       "      <td>0</td>\n",
       "      <td>test</td>\n",
       "    </tr>\n",
       "    <tr>\n",
       "      <th>4845</th>\n",
       "      <td>overburdened with complicated plotting and ba...</td>\n",
       "      <td>0</td>\n",
       "      <td>test</td>\n",
       "    </tr>\n",
       "    <tr>\n",
       "      <th>4846</th>\n",
       "      <td>the picture runs a mere 84 minutes , but it '...</td>\n",
       "      <td>1</td>\n",
       "      <td>test</td>\n",
       "    </tr>\n",
       "    <tr>\n",
       "      <th>4847</th>\n",
       "      <td>steers refreshingly clear of the usual cliches .</td>\n",
       "      <td>1</td>\n",
       "      <td>test</td>\n",
       "    </tr>\n",
       "    <tr>\n",
       "      <th>4848</th>\n",
       "      <td>niccol the filmmaker merges his collaborators...</td>\n",
       "      <td>1</td>\n",
       "      <td>test</td>\n",
       "    </tr>\n",
       "  </tbody>\n",
       "</table>\n",
       "</div>"
      ],
      "text/plain": [
       "                                                      X  Y data_set\n",
       "4844                              a ragbag of cliches .  0     test\n",
       "4845   overburdened with complicated plotting and ba...  0     test\n",
       "4846   the picture runs a mere 84 minutes , but it '...  1     test\n",
       "4847   steers refreshingly clear of the usual cliches .  1     test\n",
       "4848   niccol the filmmaker merges his collaborators...  1     test"
      ]
     },
     "execution_count": 25,
     "metadata": {},
     "output_type": "execute_result"
    }
   ],
   "source": [
    "df_test.head()"
   ]
  },
  {
   "cell_type": "code",
   "execution_count": null,
   "metadata": {},
   "outputs": [],
   "source": []
  }
 ],
 "metadata": {
  "kernelspec": {
   "display_name": "Python 3",
   "language": "python",
   "name": "python3"
  },
  "language_info": {
   "codemirror_mode": {
    "name": "ipython",
    "version": 3
   },
   "file_extension": ".py",
   "mimetype": "text/x-python",
   "name": "python",
   "nbconvert_exporter": "python",
   "pygments_lexer": "ipython3",
   "version": "3.6.5"
  }
 },
 "nbformat": 4,
 "nbformat_minor": 2
}
