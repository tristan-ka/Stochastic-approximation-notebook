{
 "cells": [
  {
   "cell_type": "markdown",
   "metadata": {},
   "source": [
    "<center> <h2> Approximation Stochastique </h2> </center>\n",
    "\n",
    "Les méthodes d'approximation stochastique sont extrêmement utilisées dans les algorithmes de machine learning. Elles permettent de résoudre des problèmes d'optimisation et de point fixe sur des données contenant du bruit. En ingénierie, la plupart des problèmes d'optimisation reposent sur des modèles dont on ne connait pas l'expression exacte mais pour lesquelles on dispose de mesures bruitées. Il parait donc utile de se pencher sur ces méthodes initialement proposé par Robbins-Monro en 1951. Le déroulement de ce notebook est linéaire. On commence par comprendre l'algorithme fondateur puis on avance incrémentalement vers les algorithmes d'optimisation."
   ]
  },
  {
   "cell_type": "markdown",
   "metadata": {},
   "source": [
    "<div class=\"alert alert-success\" style=\"margin-top: 1em\">\n",
    "**Ce qu'il faut retenir**<br/>\n",
    "Les méthodes d'approximation stochastique :\n",
    "<ul>\n",
    "<li> reposent sur des observations bruitées d'une fonction que l'on ne peut pas calculer </li>\n",
    "<li> sont des méthodes itératives</li>\n",
    "<li> sont utilisées en apprentissage pour minimiser des fonctions de risque </li>\n",
    "<li> sont pertinentes pour cette application mais peu compétitives sur d'autre problèmes d'optimisation</li>\n",
    "</ul>\n",
    "</div>"
   ]
  },
  {
   "cell_type": "markdown",
   "metadata": {},
   "source": [
    "### Table des matières\n",
    "\n",
    "1. Algorithme de Robbins-Monro \n",
    "2. Lien avec les problèmes d'optimisation\n",
    "    - Algorithm de Kierfer-Wolfowitz\n",
    "    - Approximation stochastique par perturbations simultanées\n",
    "    - Approximation du gradient lors de l'apprentissage\n",
    "1. Application à l'économie"
   ]
  },
  {
   "cell_type": "code",
   "execution_count": 8,
   "metadata": {
    "collapsed": true
   },
   "outputs": [],
   "source": [
    "import pylab\n",
    "import numpy as np\n",
    "import matplotlib.pyplot as plt\n",
    "import math\n",
    "np.random.seed(76523654)"
   ]
  },
  {
   "cell_type": "markdown",
   "metadata": {},
   "source": [
    "### Introduction : Fonction bruitée\n",
    "Dans un premier temps, nous allons illustrer une fonction bruitée et voir les contraintes liées à la manipulation de ces types de fonction. <br> Une fonction bruitée est une fonction perturbée par un bruit indéterminé à chaque évaluation, ce qui la rend assez difficile à manipuler.\n",
    "<br> Ce type de fonction est très fréquent dans les secteurs liés au traitement de signaux."
   ]
  },
  {
   "cell_type": "code",
   "execution_count": 1,
   "metadata": {
    "collapsed": true
   },
   "outputs": [],
   "source": [
    "##Définition de la fonction bruitée\n",
    "def f(x):\n",
    "    return 0.1*x**2-2.6*x-1.5\n",
    "\n",
    "def noisy_func(x):\n",
    "    return np.random.normal(loc = f(x), scale = 1)"
   ]
  },
  {
   "cell_type": "code",
   "execution_count": 4,
   "metadata": {},
   "outputs": [
    {
     "data": {
      "image/png": "[encoded data removed]",
      "text/plain": [
       "<matplotlib.figure.Figure at 0x10a9d8668>"
      ]
     },
     "metadata": {},
     "output_type": "display_data"
    }
   ],
   "source": [
    "X = np.arange(100)*0.3\n",
    "normal = f(X)\n",
    "noisy = np.zeros(len(X))\n",
    "\n",
    "for i in range(len(X)):\n",
    "    noisy[i] = noisy_func(X[i])\n",
    "    \n",
    "##Représentation graphique de la fonction \n",
    "plt.plot(X,normal)\n",
    "plt.plot(X,noisy,alpha=0.5)\n",
    "plt.plot(X,[0]*len(X),'g-',linewidth=2.0)\n",
    "plt.plot(26.5,0,marker='o')\n",
    "plt.text(25, 0.5, r'$\\theta^*$',fontsize=15)\n",
    "plt.title('Noisy Function',y=1,fontweight='bold')\n",
    "plt.show()\n",
    "\n"
   ]
  },
  {
   "cell_type": "markdown",
   "metadata": {},
   "source": [
    "<div class = \"alert alert-danger\">\n",
    "Comment procéderiez-vous pour déterminer la solution de l'équation f(a)=4 à partir du graphe, par exemple? \n",
    "\n",
    "Intuitivement, pourriez-vous déterminer graphiquement le minimum global de la fonction f? \n",
    "\n",
    "</div>"
   ]
  },
  {
   "cell_type": "markdown",
   "metadata": {},
   "source": [
    "Réponse :"
   ]
  },
  {
   "cell_type": "markdown",
   "metadata": {},
   "source": [
    "### 1. Algorithme de Robbins-Monro\n"
   ]
  },
  {
   "cell_type": "markdown",
   "metadata": {},
   "source": [
    "Soit $f$ une fonction bruitée.  Soit une constante $\\alpha$ telle que l'équation $f(\\theta)=\\alpha$ admette une unique solution $\\theta^*$ que nous souhaitons déterminer. Supposons également que $f$ ne soit pas directement observable, mais nous pouvons observer les valeurs de la variable aléatoire $N(\\theta)$ telle que $\\mathbb E[N(\\theta)]=f(\\theta)$. L'algorithme de Robbins-Monro<sup>[1]</sup> respose sur des itérations de $\\theta$:\n",
    "\n",
    "$\\theta_{n+1}=\\theta_n-a_n\\cdot(N(\\theta_n)-\\alpha)$\n",
    "\n",
    "où $(a_i)$ est une suite positive qui remplit les conditions suivantes: $ \\sum\\limits_{n=0}^{\\infty}a_n = \\infty$ et $\\sum\\limits_{n=0}^{\\infty}a^2_n < \\infty$\n",
    "\n",
    "Blum a ensuite proposé des garanties sur la probabilité de convergence. Il postule que la suite $(\\theta_n)$ converge vers la racine unique $\\theta^*$ avec une probabilité de 1 dans $L^2$ sous les hypothèses suivantes:\n",
    "\n",
    "* $N(\\theta)$ est uniformément bornée\n",
    "* $f(\\theta)$ est non décroissante\n",
    "* $f'(\\theta^*)$ existe et est définie positive\n",
    "\n",
    "\n",
    "La suite $a_n=\\frac{a}{n}$ avec $a>0$ est suggérée par Robbins-Monro."
   ]
  },
  {
   "cell_type": "markdown",
   "metadata": {},
   "source": [
    "<div class=\"alert alert-warning\">\n",
    "**Exercice**: Implémenter l'algorithme de Robbins-Monro pour trouver la racine du polynome donné en introduction\n",
    "</div> "
   ]
  },
  {
   "cell_type": "code",
   "execution_count": 2,
   "metadata": {},
   "outputs": [],
   "source": [
    "def robbins_monro(theta_0,n_iter,alpha,func):\n",
    "    #Variables à utiliser :\n",
    "    #theta_liste :  liste des theta possibles sur laquelle on va itérer\n",
    "    #n_iter: le nombre d'itérations\n",
    "    theta_liste = [theta_0]*n_iter\n",
    "    ### A COMPLETER\n",
    "    #for i in range(n_iter-1):\n",
    "        #a_n=\n",
    "        #theta_liste[i+1] =\n",
    "    return 0 #theta_liste\n",
    "\n"
   ]
  },
  {
   "cell_type": "code",
   "execution_count": 4,
   "metadata": {},
   "outputs": [],
   "source": [
    "#theta_list = robbins_monro(0,1000,0,noisy_func)\n",
    "#plt.plot(theta_list)\n",
    "#plt.title('Itérations de la racine ',y=1,fontweight='bold')\n",
    "#plt.show()"
   ]
  },
  {
   "cell_type": "markdown",
   "metadata": {},
   "source": [
    "<div class =\"alert alert-danger\">\n",
    "\n",
    "Vous pouvez jouer sur les paramètres suivants :\n",
    "<ul>\n",
    "<li>l'estimation initiale $\\theta_0$  \n",
    "<li> le nombre d'itérations\n",
    "<li>la function bruitée\n",
    "</ul>\n",
    "\n",
    "Que remarquez-vous?\n",
    "</div>"
   ]
  },
  {
   "cell_type": "markdown",
   "metadata": {},
   "source": [
    "On remarque que l'algorithme de Robbins-Monro converge bien plus rapidement vers la solution en l'approchant par valeurs inférieures que par valeurs supérieurs. Cela illustre la probabilité plus grande de convergence sous l'hypothèse de non-décroissance proposé par Blum."
   ]
  },
  {
   "cell_type": "markdown",
   "metadata": {},
   "source": [
    "### 2. Lien avec les problèmes d'optimisation"
   ]
  },
  {
   "cell_type": "markdown",
   "metadata": {},
   "source": [
    "#### Algorithme de Kiefer-Wolfowitz"
   ]
  },
  {
   "cell_type": "markdown",
   "metadata": {},
   "source": [
    "L'algorithme de Kiefer-Wolfowitz <sup>[1]</sup> , proposé en 1952 découle tout droit de celui de Robbins-Monro (seulement un an après). Son but n'est pas de trouver la racine d'un polynome mais d'approximer stochastiquement le maximum ou le minimum d'une fonction. \n",
    "\n",
    "Soit la fonction $M$ qui admet un maximum en $x^{*}$. On suppose que $M(x)$ est inconnue mais on dispose d'observations $N(x)$ telles que $\\mathbb{E}[N(x)]=M(x)$.\n",
    "\n",
    "L'agorithme consite alors en à une descente de gradient où le gradient est estimé par une différence finie centrée du premier ordre. Les itérations sont données par :\n",
    "\n",
    "$$x_{n+1}=x_n+a_n\\left(\\frac{N(x_n+c_n)-N(x_n-c_n)}{2c_n}\\right)$$ \n",
    "\n",
    "La suite $\\{a_n\\}$ représente la taille des pas à chaque itération et peut être perçu comme un terme de \"confiance\" en l'estimation du gradient. La suite $\\{c_n\\}$ correspond à la largeur de la différence centrée.\n",
    "\n",
    "Pour ce théorème, Blum a prouvé que la suite des $x_n$ converge presque surement vers $x^*$ si :\n",
    "* $\\text{Var}(N(X))\\leq S \\leq \\infty$\n",
    "* La fonction $M(x)$ admet un unique maximum (minimum) et est fortement concave (convexe)\n",
    "* $\\{a_n\\}$ et $\\{c_n\\}$ sont telles que :\n",
    "    - $c_n \\leftarrow 0$ as $ n \\leftarrow \\infty$\n",
    "    - $\\sum_{n=0}^\\infty a_n=\\infty$\n",
    "    - $\\sum_{n=0}^\\infty a_nc_n< \\infty$\n",
    "    - $\\sum_{n=0}^\\infty a_n^2c_n^{-2}< \\infty$\n",
    "    \n",
    "Ces conditions permettent donc de trouver le maximum ou le minimum d'une fonction $M(x)$ en utilisant les observations bruitées $N(x)$ de cette dernière."
   ]
  },
  {
   "cell_type": "markdown",
   "metadata": {},
   "source": [
    "<div class =\"alert alert-danger\">\n",
    "Quelles sont les limites de cette méthode pour l'estimation du gradient d'une fonction de nombreuses variables ?\n",
    "</div>"
   ]
  },
  {
   "cell_type": "markdown",
   "metadata": {},
   "source": [
    "Réponse :"
   ]
  },
  {
   "cell_type": "markdown",
   "metadata": {},
   "source": [
    "#### Approximation stochastique par perturbations simultanées"
   ]
  },
  {
   "cell_type": "markdown",
   "metadata": {},
   "source": [
    "La méthode de Kiefer-Wolfowitz consiste donc en une simple différence finie centrée sur une fonction bruitée. Il faut donc $p$ différence finie pour estimer le gradient en dimension $p$. En effet l'estimation de la i-ème composante du gradient est :\n",
    "\n",
    "**DF : ** $ \\quad(\\hat{g}_n(x_n))_i=\\dfrac{N(x_n+c_n)-N(x_n-c_n)}{2c_n}$\n",
    "\n",
    "Pour accélérer le processus d'estimation du gradient on peut utiliser la méthode de perturbation simultanée (PS) <sup>[2]</sup>. Pour ce faire on définie $\\Delta_n$ comme un vecteur de perturbation aléatoire dont les valeurs sont comprises entre 0 et 1. L'estimation de la i-ème composante du gradient devient :\n",
    "\n",
    "** PS : ** $\\quad (\\hat{g}_n(x_n))_i=\\dfrac{N(x_n+c_n\\Delta_n)-N(x_n-c_n\\Delta_n)}{2c_n(\\Delta_n)_i}$\n",
    "\n",
    "Ainsi si l'estimation du gradient en différence finie requiert $2p$ estimation de la fonction $N$, elle n'en demande que 2 en perturbation simultanée. "
   ]
  },
  {
   "cell_type": "markdown",
   "metadata": {},
   "source": [
    "<div class= \"alert alert-warning\">\n",
    "\n",
    "** Exercice : ** On se propose d'approcher un polynome uniquement à partir d'une observation bruitée de ce dernier afin d'illustrer l'efficacité de la méthode de perturbations simultanées.\n",
    "<div>\n"
   ]
  },
  {
   "cell_type": "markdown",
   "metadata": {},
   "source": [
    "On cherche donc le polynome $p$ de degré 2, $p \\in \\mathbb{P}^2$, qui se cache derrière la fonction bruitée que l'on a généré dans notre introduction. En reprenant les notations définies précédemment, on cherche $\\theta \\in \\mathbb{R}^3$ tel que $\\hat{p(\\theta,x)}\\approx M(x)$ sachant qu'on n'utilise que $N(x)$.\n",
    "On définie donc la fonction de coût (ou de risque):\n",
    "$$ R(\\theta)=\\sum_{k=0}^K(\\hat{p(\\theta,x_k)}-N(x_k))^2$$\n",
    "qui représente l'écart entre l'estimation du polynome et la fonction $N$ en chaque point $x_k$ de la discrétisation utilisée. L'évaluation du gradient se fait alors sur trois dimensions $\\dfrac{\\partial R(\\theta)}{\\partial \\theta_0}$, $\\dfrac{\\partial R(\\theta)}{\\partial \\theta_1}$ et $\\dfrac{\\partial R(\\theta)}{\\partial \\theta_2}$.\n",
    "\n",
    "L'approximation du gradient s'écrit alors : $(\\hat{g}_n(\\theta_n))_i=\\dfrac{R(\\theta_n+c_n\\Delta_n)-R(\\theta_n-c_n\\Delta_n)}{2c_n(\\Delta_n)_i}$\n",
    " "
   ]
  },
  {
   "cell_type": "code",
   "execution_count": 9,
   "metadata": {
    "collapsed": true
   },
   "outputs": [],
   "source": [
    "fitfunc = lambda p, x: p[0] * x * x + p[1] * x + p[2]\n",
    "errfunc = lambda p, x, y, noise_var: np.sum((fitfunc(p, x) - y) ** 2 / noise_var ** 2)\n",
    "def calc_loss(theta,x_arr,obs,noise_var):\n",
    "    return errfunc(theta,x_arr,obs,noise_var)"
   ]
  },
  {
   "cell_type": "code",
   "execution_count": 10,
   "metadata": {},
   "outputs": [],
   "source": [
    "p_in=[0.1, -2.6, -1.5]\n",
    "noise_var=1\n",
    "x_arr = np.arange(100) * 0.3\n",
    "obs = p_in[0] * x_arr ** 2 + p_in[1] * x_arr + p_in[2]\n",
    "noise = np.random.normal(size=100) * noise_var  # add some noise to the obs\n",
    "obs += noise"
   ]
  },
  {
   "cell_type": "code",
   "execution_count": 11,
   "metadata": {},
   "outputs": [
    {
     "data": {
      "image/png": "[encoded data removed]",
      "text/plain": [
       "<matplotlib.figure.Figure at 0x108d7dfd0>"
      ]
     },
     "metadata": {},
     "output_type": "display_data"
    }
   ],
   "source": [
    "plt.plot(x_arr,obs)\n",
    "plt.xlabel('x')\n",
    "plt.ylabel('N(x)')\n",
    "plt.show()"
   ]
  },
  {
   "cell_type": "markdown",
   "metadata": {},
   "source": [
    "L'algorithme d'aproximation stochastique par perturbations simultanées nécessite de définir les hyperparamètres suivant:\n",
    "   * $n_{max}$, le nombre maximal d'itération\n",
    "   * $\\alpha$ qui permet de défnir $a_n=\\alpha \\frac{1}{n+n_{max}/10}$\n",
    "   * $\\gamma$ qui permet de définir $c_n=\\left(\\frac{1}{n}\\right)^{\\gamma}$\n",
    "   \n",
    "On initilaise enfin $\\theta_0$ aléatoirement. Il convient de noter la petite ruse qui consiste à ajouter le nombre d'itérations maximum possible dans la définition des $a_n$. Cela signifie que si l'on dispose de peu d'itérations les directions indiqués par le gradient seront suivies fortement à chaque itération."
   ]
  },
  {
   "cell_type": "code",
   "execution_count": 12,
   "metadata": {
    "collapsed": true
   },
   "outputs": [],
   "source": [
    "# Initialisation\n",
    "theta_0 = np.random.rand(3)\n",
    "num_p = theta_0.shape[0]\n",
    "n_iter=0\n",
    "theta=theta_0\n",
    "R_old=calc_loss(theta,x_arr,obs,noise_var)\n",
    "alpha=1e-3\n",
    "gamma=0.15\n",
    "\n",
    "max_iter=1000000\n",
    "theta_saved = theta_0 * 100\n",
    "R_new=1000\n",
    "Rlist=[]\n",
    "ghatlist=[]"
   ]
  },
  {
   "cell_type": "code",
   "execution_count": 86,
   "metadata": {
    "collapsed": true
   },
   "outputs": [],
   "source": [
    "while (np.linalg.norm(theta_saved - theta) / np.linalg.norm(theta_saved) > 1e-10) and (n_iter < max_iter):\n",
    "    theta_saved=theta\n",
    "    ak=1/(n_iter+1+max_iter/10)*alpha\n",
    "    ck=1/(n_iter+1)**(gamma)\n",
    "    ghat=0 # initial gradient estimate\n",
    "    ### A COMPLETER\n",
    "    #-------------------\n",
    "    #delta = \n",
    "    \n",
    "    #theta_plus = \n",
    "    #theta_minus = \n",
    "    \n",
    "    #R_plus = \n",
    "    #R_minus = \n",
    "    #ghat =\n",
    "\n",
    "    #theta_new = \n",
    "    #R_new=\n",
    "    #-------------------\n",
    "    Rlist.append(R_new)\n",
    "    ghatlist.append(ghat[1])\n",
    "    theta=theta_new\n",
    "    n_iter+=1\n",
    "xsol=theta\n",
    "ysol=xsol[0]*x_arr**2 + xsol[1]*x_arr +xsol[2]"
   ]
  },
  {
   "cell_type": "code",
   "execution_count": 94,
   "metadata": {},
   "outputs": [
    {
     "data": {
      "image/png": "[encoded data removed]",
      "text/plain": [
       "<matplotlib.figure.Figure at 0x115ea8d30>"
      ]
     },
     "metadata": {},
     "output_type": "display_data"
    }
   ],
   "source": [
    "#plt.plot(x_arr,obs,label=\"$N(x)$\")\n",
    "#plt.plot(x_arr,ysol,label=\"$p(θ,x)$\")\n",
    "#plt.title(\"Solution après descente de gradient stochastique\")\n",
    "#plt.xlabel('x')\n",
    "#plt.ylabel('y')\n",
    "#plt.legend()\n",
    "#plt.show()"
   ]
  },
  {
   "cell_type": "code",
   "execution_count": 139,
   "metadata": {
    "scrolled": true
   },
   "outputs": [
    {
     "data": {
      "image/png": "[encoded data removed]",
      "text/plain": [
       "<matplotlib.figure.Figure at 0x1154b8630>"
      ]
     },
     "metadata": {},
     "output_type": "display_data"
    }
   ],
   "source": [
    "#plt.plot(ghatlist[1000:len(ghatlist)-1])\n",
    "#plt.title(\"Estimation du gradient du risque\")\n",
    "#plt.xlabel(\"itérations\")\n",
    "#plt.ylabel(\"valeur du gradient estimé\")\n",
    "#plt.show()"
   ]
  },
  {
   "cell_type": "markdown",
   "metadata": {},
   "source": [
    "#### Lien avec l'approximation du gradient lors de l'apprentissage"
   ]
  },
  {
   "cell_type": "markdown",
   "metadata": {},
   "source": [
    "En apprentissage, on souhaite souvent minimiser une fonction de risque $R$ en ajustant les paramètres d'un estimateur. Prenons le cas d'un réseau de neuronnes $f$. On souhaite minimiser le risque empirique $R$ que notre réseau se trompe lors de sa prédiction. Si l'on se réfère à notre cours sur les réseaux de neuronnes on a :\n",
    "\n",
    "<center>$R(\\theta)=\\frac{1}{n}\\sum_{i=1}^n\\sum_{k=1}^K(y_{ik}-f_k(x_i))^2=\\dfrac{1}{n}\\sum_{i=1}^nR_i(\\theta)$\n",
    "\n",
    "<center/n>\n",
    "\n",
    "La mise à jour des poids du réseau se fait via la règle suivante : $\\theta \\leftarrow \\theta + \\gamma\\dfrac{\\partial R}{\\partial \\theta}$\n",
    "\n",
    "Le gradient est donc calculé **pour tous les échantillons** de la base de donnée avant la mise à jour des $\\theta$. Lorsque les données d'entrainement sont nombreuses, la formation du batch des données est trop longue et ne permet pas d'adapter le modèle en ligne. C'est pourquoi on utilise une approximation stochastique du gradient. \n",
    "\n",
    "La **descente de gradient sochastique** permet d'obtenir l'information du gradient du risque empirique $\\frac{\\partial R}{\\partial \\theta}$ en calculant le gradient $\\frac{\\partial R_i}{\\partial \\theta}$ après chaque passage d'un exemple $x_i$ dans la base de donnée. La mise à jour des poids devient :\n",
    "\n",
    "$\\theta \\leftarrow \\theta + \\gamma\\dfrac{\\partial R_i}{\\partial \\theta}$\n",
    "\n",
    "Le risque empirique $R(\\theta)$ n'étant que la moyenne des $R_i(\\theta)$, on peut donc percevoir $R_i$ comme une information bruitée de $R$. Le théorème de Robbins-Monro s'applique donc et la convergence est garantie à condition que la suite des $\\gamma$ respecte les conditions du théorème."
   ]
  },
  {
   "cell_type": "markdown",
   "metadata": {},
   "source": [
    "### 3. Application à l'économie"
   ]
  },
  {
   "cell_type": "markdown",
   "metadata": {},
   "source": [
    "Pour terminer ce notebook, on se propose d'appliquer l'algorithme de Robbins-Monro à la résolution d'un problème d'économie tiré de [4].\n",
    "\n",
    "Soit $Elios$, une entreprise spécialisée dans la vente et qui dispose de $N$ centres géographiques, dans lesquels sont répartis les clients.\n",
    "\n",
    "Soit $q$ le niveau optimal d'éléments produits déstinés à la vente .\n",
    "\n",
    "Chaque centre a un nombre de clients potentiel éstimé à $C$.\n",
    "\n",
    "Le nombre de clients potentiels est directement corrélé au niveau $x$ de l'action publicitaire investie par l'entreprise dans chaque centre géographique. Le nombre de client effectif est donc $CK(x)$ où $K(x)$ peut avoir une distribution aléatoire.  \n",
    "\n",
    "A long terme, l'objectif de l'entreprise est d'uniformiser les ventes de ses diffèrents centres géographiques; c'est à dire vendre dans chaque centre une quantité qui avoisine $q/N$ sous l'hypothèse suivante : $q/N <<C$.\n",
    "\n",
    "Le but de cet exercice est de trouver l'action publicitaire $x$ optimale permettant d'atteindre cet objectif."
   ]
  },
  {
   "cell_type": "markdown",
   "metadata": {},
   "source": [
    "La fonction aléatoire $K$ est définie de la manière suivante :"
   ]
  },
  {
   "cell_type": "code",
   "execution_count": 72,
   "metadata": {},
   "outputs": [
    {
     "name": "stdout",
     "output_type": "stream",
     "text": [
      "80.0\n",
      "1000\n"
     ]
    }
   ],
   "source": [
    "q=4000\n",
    "N=50\n",
    "C=1000\n",
    "\n",
    "def K(x):\n",
    "    return np.random.normal(loc = np.arctan(0.05*x)/math.pi , scale = 0.05)"
   ]
  },
  {
   "cell_type": "markdown",
   "metadata": {},
   "source": [
    "On vérifie que $q/N<<C$"
   ]
  },
  {
   "cell_type": "code",
   "execution_count": 74,
   "metadata": {},
   "outputs": [
    {
     "name": "stdout",
     "output_type": "stream",
     "text": [
      "80.0\n",
      "1000\n"
     ]
    }
   ],
   "source": [
    "print(q/N)\n",
    "print(C)"
   ]
  },
  {
   "cell_type": "code",
   "execution_count": 75,
   "metadata": {},
   "outputs": [
    {
     "data": {
      "image/png": "[encoded data removed]",
      "text/plain": [
       "<matplotlib.figure.Figure at 0x115e6e7f0>"
      ]
     },
     "metadata": {},
     "output_type": "display_data"
    }
   ],
   "source": [
    "x=np.linspace(0,20,100)\n",
    "plt.plot(x,K(x))\n",
    "plt.xlabel('x')\n",
    "plt.ylabel('K(x)')\n",
    "plt.show()"
   ]
  },
  {
   "cell_type": "markdown",
   "metadata": {},
   "source": [
    "<div class= \"alert alert-warning\">\n",
    "\n",
    "** Exercice : ** Définir la fonction Y(x) permettant de trouver le niveau d'action publicitaire $x$ optimal. Puis utiliser l'algorithme de Robbins-Monro pour trouver $x$.\n",
    "<div>\n",
    "\n"
   ]
  },
  {
   "cell_type": "code",
   "execution_count": 70,
   "metadata": {
    "collapsed": true
   },
   "outputs": [],
   "source": [
    "#def Y(x):\n",
    "    ### A COMPLETER\n",
    "    # return \n",
    "\n",
    "### Résolution du problème avec Robbins-Monro\n",
    "\n",
    "#plt.plot(x,Y(x))\n",
    "#plt.scatter(x_sol,0,color='red')\n",
    "#plt.show()"
   ]
  },
  {
   "cell_type": "markdown",
   "metadata": {},
   "source": [
    "### Références\n",
    "\n",
    "[1] : https://en.wikipedia.org/wiki/Stochastic_approximation\n",
    "\n",
    "[2] : https://en.wikipedia.org/wiki/Simultaneous_perturbation_stochastic_approximation\n",
    "\n",
    "[3] : https://github.com/jgomezdans/spsa\n",
    "\n",
    "[4] : _L'approximation et l'optimisation stochastiques en économie : deux exemples, Max Pinhas, Revue économique,  Année 1973,  Volume 24  Numéro 1  pp. 176-182_\n",
    "\n",
    "[5] : _Stochastic Approximation and Recursive Algorithms and Applications, Harold J. KushnerG. George Yin, 2003_"
   ]
  }
 ],
 "metadata": {
  "kernelspec": {
   "display_name": "Python 3",
   "language": "python",
   "name": "python3"
  },
  "language_info": {
   "codemirror_mode": {
    "name": "ipython",
    "version": 3
   },
   "file_extension": ".py",
   "mimetype": "text/x-python",
   "name": "python",
   "nbconvert_exporter": "python",
   "pygments_lexer": "ipython3",
   "version": "3.6.1"
  }
 },
 "nbformat": 4,
 "nbformat_minor": 2
}
