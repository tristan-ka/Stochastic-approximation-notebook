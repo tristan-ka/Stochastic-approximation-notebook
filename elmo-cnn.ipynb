{
 "cells": [
  {
   "cell_type": "code",
   "execution_count": 11,
   "metadata": {},
   "outputs": [],
   "source": [
    "import tensorflow as tf"
   ]
  },
  {
   "cell_type": "code",
   "execution_count": 14,
   "metadata": {},
   "outputs": [],
   "source": [
    "def make_convolutions(inp):\n",
    "    with tf.variable_scope('CNN') as scope:\n",
    "        convolutions = []\n",
    "        for i, (width, num) in enumerate(filters):\n",
    "            if cnn_options['activation'] == 'relu':\n",
    "                # He initialization for ReLU activation\n",
    "                # with char embeddings init between -1 and 1\n",
    "                #w_init = tf.random_normal_initializer(\n",
    "                #    mean=0.0,\n",
    "                #    stddev=np.sqrt(2.0 / (width * char_embed_dim))\n",
    "                #)\n",
    "\n",
    "                # Kim et al 2015, +/- 0.05\n",
    "                w_init = tf.random_uniform_initializer(\n",
    "                    minval=-0.05, maxval=0.05)\n",
    "            elif cnn_options['activation'] == 'tanh':\n",
    "                # glorot init\n",
    "                w_init = tf.random_normal_initializer(\n",
    "                    mean=0.0,\n",
    "                    stddev=np.sqrt(1.0 / (width * char_embed_dim))\n",
    "                )\n",
    "            w = tf.get_variable(\n",
    "                \"W_cnn_%s\" % i,\n",
    "                [1, width, char_embed_dim, num],\n",
    "                initializer=w_init,\n",
    "                dtype=DTYPE)\n",
    "            b = tf.get_variable(\n",
    "                \"b_cnn_%s\" % i, [num], dtype=DTYPE,\n",
    "                initializer=tf.constant_initializer(0.0))\n",
    "\n",
    "            conv = tf.nn.conv2d(\n",
    "                    inp, w,\n",
    "                    strides=[1, 1, 1, 1],\n",
    "                    padding=\"VALID\") + b\n",
    "            # now max pool\n",
    "            \n",
    "            print(conv)\n",
    "            conv = tf.nn.max_pool(\n",
    "                    conv, [1, 1, max_chars-width+1, 1],\n",
    "                    [1, 1, 1, 1], 'VALID')\n",
    "\n",
    "            # activation\n",
    "            conv = activation(conv)\n",
    "            conv = tf.squeeze(conv, squeeze_dims=[2])\n",
    "\n",
    "            convolutions.append(conv)\n",
    "            print(convolutions)\n",
    "    return tf.concat(convolutions, 2)"
   ]
  },
  {
   "cell_type": "code",
   "execution_count": 19,
   "metadata": {},
   "outputs": [
    {
     "name": "stdout",
     "output_type": "stream",
     "text": [
      "Tensor(\"CNN/add:0\", shape=(?, ?, 50, 4), dtype=float32)\n",
      "[<tf.Tensor 'CNN/Squeeze:0' shape=(?, ?, 4) dtype=float32>]\n",
      "Tensor(\"CNN/add_1:0\", shape=(?, ?, 49, 8), dtype=float32)\n",
      "[<tf.Tensor 'CNN/Squeeze:0' shape=(?, ?, 4) dtype=float32>, <tf.Tensor 'CNN/Squeeze_1:0' shape=(?, ?, 8) dtype=float32>]\n",
      "Tensor(\"CNN/add_2:0\", shape=(?, ?, 48, 16), dtype=float32)\n",
      "[<tf.Tensor 'CNN/Squeeze:0' shape=(?, ?, 4) dtype=float32>, <tf.Tensor 'CNN/Squeeze_1:0' shape=(?, ?, 8) dtype=float32>, <tf.Tensor 'CNN/Squeeze_2:0' shape=(?, ?, 16) dtype=float32>]\n",
      "Tensor(\"CNN/add_3:0\", shape=(?, ?, 47, 32), dtype=float32)\n",
      "[<tf.Tensor 'CNN/Squeeze:0' shape=(?, ?, 4) dtype=float32>, <tf.Tensor 'CNN/Squeeze_1:0' shape=(?, ?, 8) dtype=float32>, <tf.Tensor 'CNN/Squeeze_2:0' shape=(?, ?, 16) dtype=float32>, <tf.Tensor 'CNN/Squeeze_3:0' shape=(?, ?, 32) dtype=float32>]\n",
      "Tensor(\"CNN/add_4:0\", shape=(?, ?, 46, 64), dtype=float32)\n",
      "[<tf.Tensor 'CNN/Squeeze:0' shape=(?, ?, 4) dtype=float32>, <tf.Tensor 'CNN/Squeeze_1:0' shape=(?, ?, 8) dtype=float32>, <tf.Tensor 'CNN/Squeeze_2:0' shape=(?, ?, 16) dtype=float32>, <tf.Tensor 'CNN/Squeeze_3:0' shape=(?, ?, 32) dtype=float32>, <tf.Tensor 'CNN/Squeeze_4:0' shape=(?, ?, 64) dtype=float32>]\n"
     ]
    }
   ],
   "source": [
    "tf.reset_default_graph()\n",
    "\n",
    "with tf.Session() as sess:\n",
    "\n",
    "    DTYPE = 'float32'\n",
    "    DTYPE_INT = 'int64'\n",
    "\n",
    "    projection_dim = 16\n",
    "\n",
    "    cnn_options = {\"embedding\": {\"dim\": 4}, \"filters\": [[1, 4], [2, 8], [3, 16], [4, 32], [5, 64]], \"n_highway\": 2, \"n_characters\": 262, \"max_characters_per_token\": 50, \"activation\": \"relu\"}\n",
    "    filters = cnn_options['filters']\n",
    "    max_word_length = cnn_options['max_characters_per_token']\n",
    "    n_filters = sum(f[1] for f in filters)\n",
    "    max_chars = cnn_options['max_characters_per_token']\n",
    "    char_embed_dim = cnn_options['embedding']['dim']\n",
    "    n_chars = cnn_options['n_characters']\n",
    "\n",
    "    ids_placeholder = tf.placeholder('int32', shape=(None, None, max_word_length))\n",
    "\n",
    "    if n_chars != 262:\n",
    "        raise InvalidNumberOfCharacters(\"Set n_characters=262 after training see the README.md\")\n",
    "\n",
    "    if cnn_options['activation'] == 'tanh':\n",
    "        activation = tf.nn.tanh\n",
    "    elif cnn_options['activation'] == 'relu':\n",
    "        activation = tf.nn.relu\n",
    "\n",
    "    # the character embeddings\n",
    "    with tf.device(\"/cpu:0\"):\n",
    "        embedding_weights = tf.get_variable(\n",
    "                \"char_embed\", [n_chars, char_embed_dim],\n",
    "                dtype=DTYPE,\n",
    "                initializer=tf.random_uniform_initializer(-1.0, 1.0)\n",
    "        )\n",
    "        # shape (batch_size, unroll_steps, max_chars, embed_dim)\n",
    "        char_embedding = tf.nn.embedding_lookup(embedding_weights,ids_placeholder)\n",
    "\n",
    "    embedding = make_convolutions(char_embedding)\n",
    "    file_writer = tf.summary.FileWriter('logfile', sess.graph)"
   ]
  },
  {
   "cell_type": "code",
   "execution_count": 4,
   "metadata": {},
   "outputs": [],
   "source": [
    "\n"
   ]
  },
  {
   "cell_type": "code",
   "execution_count": 5,
   "metadata": {},
   "outputs": [],
   "source": []
  },
  {
   "cell_type": "code",
   "execution_count": 6,
   "metadata": {},
   "outputs": [
    {
     "name": "stdout",
     "output_type": "stream",
     "text": [
      "[<tf.Tensor 'CNN/Squeeze:0' shape=(?, ?, 4) dtype=float32>, <tf.Tensor 'CNN/Squeeze_1:0' shape=(?, ?, 8) dtype=float32>, <tf.Tensor 'CNN/Squeeze_2:0' shape=(?, ?, 16) dtype=float32>, <tf.Tensor 'CNN/Squeeze_3:0' shape=(?, ?, 32) dtype=float32>, <tf.Tensor 'CNN/Squeeze_4:0' shape=(?, ?, 64) dtype=float32>]\n"
     ]
    }
   ],
   "source": [
    "\n"
   ]
  },
  {
   "cell_type": "code",
   "execution_count": null,
   "metadata": {},
   "outputs": [],
   "source": []
  }
 ],
 "metadata": {
  "kernelspec": {
   "display_name": "Python 3",
   "language": "python",
   "name": "python3"
  },
  "language_info": {
   "codemirror_mode": {
    "name": "ipython",
    "version": 3
   },
   "file_extension": ".py",
   "mimetype": "text/x-python",
   "name": "python",
   "nbconvert_exporter": "python",
   "pygments_lexer": "ipython3",
   "version": "3.6.6"
  }
 },
 "nbformat": 4,
 "nbformat_minor": 2
}
